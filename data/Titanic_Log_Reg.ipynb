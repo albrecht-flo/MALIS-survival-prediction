{
 "cells": [
  {
   "cell_type": "code",
   "execution_count": 1,
   "id": "bb3ffe6d",
   "metadata": {},
   "outputs": [],
   "source": [
    "import numpy as np\n",
    "import matplotlib.pyplot as plt\n",
    "import pandas as pd\n",
    "from sklearn.model_selection import train_test_split\n",
    "from sklearn.linear_model import LogisticRegression\n",
    "from sklearn.metrics import RocCurveDisplay, f1_score\n",
    "import sklearn.metrics\n",
    "import sys\n",
    "#sys.path.append('../')\n",
    "import utils as multi"
   ]
  },
  {
   "cell_type": "code",
   "execution_count": 2,
   "id": "0568688a",
   "metadata": {},
   "outputs": [],
   "source": [
    "df_train = pd.read_csv('data/titanic/train.csv')\n",
    "df_test = pd.read_csv('data/titanic/test.csv')"
   ]
  },
  {
   "cell_type": "code",
   "execution_count": 3,
   "id": "1afcd026",
   "metadata": {},
   "outputs": [
    {
     "data": {
      "text/html": [
       "<div>\n",
       "<style scoped>\n",
       "    .dataframe tbody tr th:only-of-type {\n",
       "        vertical-align: middle;\n",
       "    }\n",
       "\n",
       "    .dataframe tbody tr th {\n",
       "        vertical-align: top;\n",
       "    }\n",
       "\n",
       "    .dataframe thead th {\n",
       "        text-align: right;\n",
       "    }\n",
       "</style>\n",
       "<table border=\"1\" class=\"dataframe\">\n",
       "  <thead>\n",
       "    <tr style=\"text-align: right;\">\n",
       "      <th></th>\n",
       "      <th>PassengerId</th>\n",
       "      <th>Survived</th>\n",
       "      <th>Pclass</th>\n",
       "      <th>Name</th>\n",
       "      <th>Sex</th>\n",
       "      <th>Age</th>\n",
       "      <th>SibSp</th>\n",
       "      <th>Parch</th>\n",
       "      <th>Ticket</th>\n",
       "      <th>Fare</th>\n",
       "      <th>Cabin</th>\n",
       "      <th>Embarked</th>\n",
       "    </tr>\n",
       "  </thead>\n",
       "  <tbody>\n",
       "    <tr>\n",
       "      <th>0</th>\n",
       "      <td>1</td>\n",
       "      <td>0</td>\n",
       "      <td>3</td>\n",
       "      <td>Braund, Mr. Owen Harris</td>\n",
       "      <td>male</td>\n",
       "      <td>22.0</td>\n",
       "      <td>1</td>\n",
       "      <td>0</td>\n",
       "      <td>A/5 21171</td>\n",
       "      <td>7.2500</td>\n",
       "      <td>NaN</td>\n",
       "      <td>S</td>\n",
       "    </tr>\n",
       "    <tr>\n",
       "      <th>1</th>\n",
       "      <td>2</td>\n",
       "      <td>1</td>\n",
       "      <td>1</td>\n",
       "      <td>Cumings, Mrs. John Bradley (Florence Briggs Th...</td>\n",
       "      <td>female</td>\n",
       "      <td>38.0</td>\n",
       "      <td>1</td>\n",
       "      <td>0</td>\n",
       "      <td>PC 17599</td>\n",
       "      <td>71.2833</td>\n",
       "      <td>C85</td>\n",
       "      <td>C</td>\n",
       "    </tr>\n",
       "    <tr>\n",
       "      <th>2</th>\n",
       "      <td>3</td>\n",
       "      <td>1</td>\n",
       "      <td>3</td>\n",
       "      <td>Heikkinen, Miss. Laina</td>\n",
       "      <td>female</td>\n",
       "      <td>26.0</td>\n",
       "      <td>0</td>\n",
       "      <td>0</td>\n",
       "      <td>STON/O2. 3101282</td>\n",
       "      <td>7.9250</td>\n",
       "      <td>NaN</td>\n",
       "      <td>S</td>\n",
       "    </tr>\n",
       "    <tr>\n",
       "      <th>3</th>\n",
       "      <td>4</td>\n",
       "      <td>1</td>\n",
       "      <td>1</td>\n",
       "      <td>Futrelle, Mrs. Jacques Heath (Lily May Peel)</td>\n",
       "      <td>female</td>\n",
       "      <td>35.0</td>\n",
       "      <td>1</td>\n",
       "      <td>0</td>\n",
       "      <td>113803</td>\n",
       "      <td>53.1000</td>\n",
       "      <td>C123</td>\n",
       "      <td>S</td>\n",
       "    </tr>\n",
       "    <tr>\n",
       "      <th>4</th>\n",
       "      <td>5</td>\n",
       "      <td>0</td>\n",
       "      <td>3</td>\n",
       "      <td>Allen, Mr. William Henry</td>\n",
       "      <td>male</td>\n",
       "      <td>35.0</td>\n",
       "      <td>0</td>\n",
       "      <td>0</td>\n",
       "      <td>373450</td>\n",
       "      <td>8.0500</td>\n",
       "      <td>NaN</td>\n",
       "      <td>S</td>\n",
       "    </tr>\n",
       "  </tbody>\n",
       "</table>\n",
       "</div>"
      ],
      "text/plain": [
       "   PassengerId  Survived  Pclass  \\\n",
       "0            1         0       3   \n",
       "1            2         1       1   \n",
       "2            3         1       3   \n",
       "3            4         1       1   \n",
       "4            5         0       3   \n",
       "\n",
       "                                                Name     Sex   Age  SibSp  \\\n",
       "0                            Braund, Mr. Owen Harris    male  22.0      1   \n",
       "1  Cumings, Mrs. John Bradley (Florence Briggs Th...  female  38.0      1   \n",
       "2                             Heikkinen, Miss. Laina  female  26.0      0   \n",
       "3       Futrelle, Mrs. Jacques Heath (Lily May Peel)  female  35.0      1   \n",
       "4                           Allen, Mr. William Henry    male  35.0      0   \n",
       "\n",
       "   Parch            Ticket     Fare Cabin Embarked  \n",
       "0      0         A/5 21171   7.2500   NaN        S  \n",
       "1      0          PC 17599  71.2833   C85        C  \n",
       "2      0  STON/O2. 3101282   7.9250   NaN        S  \n",
       "3      0            113803  53.1000  C123        S  \n",
       "4      0            373450   8.0500   NaN        S  "
      ]
     },
     "execution_count": 3,
     "metadata": {},
     "output_type": "execute_result"
    }
   ],
   "source": [
    "df_train.head()"
   ]
  },
  {
   "cell_type": "code",
   "execution_count": 4,
   "id": "05b3abac",
   "metadata": {},
   "outputs": [],
   "source": [
    "def preprocess(orig_df: pd.DataFrame):\n",
    "    df = orig_df.copy()\n",
    "    embarked_map = {'S': 0, 'C': 1, 'Q': 2}\n",
    "    drop_columns = ['PassengerId', 'Name', 'SibSp', 'Parch', 'Ticket', 'Cabin']\n",
    "    df['Had Cabin'] = df['Cabin'].map(lambda c: 0 if type(c) != str else 1)\n",
    "    df['Family size'] = df['SibSp'] + df['Parch']\n",
    "    df['Embarked'] = df['Embarked'].fillna('S').map(lambda c: embarked_map[c])\n",
    "    df['Sex'] = df['Sex'].map(lambda c: 0 if c == 'male' else 1)\n",
    "    df['Age'] = df['Age'].fillna(df['Age'].mean())\n",
    "    df['Fare'] = df['Fare'].fillna(df['Fare'].mean())\n",
    "\n",
    "    # Drop all unused columns\n",
    "    df = df.drop(columns=drop_columns)\n",
    "    return df\n",
    "    "
   ]
  },
  {
   "cell_type": "code",
   "execution_count": 5,
   "id": "617684f6",
   "metadata": {},
   "outputs": [],
   "source": [
    "def preprocess_drop_na(orig_df: pd.DataFrame):\n",
    "    df = orig_df.copy()\n",
    "    embarked_map = {'S': 0, 'C': 1, 'Q': 2}\n",
    "    drop_columns = ['PassengerId', 'Name','Age', 'SibSp', 'Parch', 'Ticket', 'Cabin']\n",
    "    df = df.drop(columns=drop_columns)\n",
    "    df = df.dropna()\n",
    "    df['Embarked'] = df['Embarked'].map(lambda c: embarked_map[c])\n",
    "    df['Sex'] = df['Sex'].map(lambda c: 0 if c == 'male' else 1)\n",
    "\n",
    "    # Drop all unused columns\n",
    "    \n",
    "    return df"
   ]
  },
  {
   "cell_type": "code",
   "execution_count": 6,
   "id": "d33c395c",
   "metadata": {},
   "outputs": [],
   "source": [
    "def make_col_mult(df_o, s):\n",
    "    df = df_o\n",
    "    u = df[s].unique()\n",
    "    for i in u:\n",
    "        \n",
    "        df[s  + ' '+ str(i)] = np.where(df[s][:] == i,1,0)\n",
    "    df = df.drop([s],axis=1)\n",
    "    return df"
   ]
  },
  {
   "cell_type": "code",
   "execution_count": 7,
   "id": "27dfb7f5",
   "metadata": {},
   "outputs": [],
   "source": [
    "df = pd.concat([df_train,df_test])\n",
    "df_clean = preprocess(df)\n",
    "df_clean_NNA = preprocess_drop_na(df)"
   ]
  },
  {
   "cell_type": "code",
   "execution_count": 8,
   "id": "92304ee5",
   "metadata": {},
   "outputs": [
    {
     "data": {
      "text/html": [
       "<div>\n",
       "<style scoped>\n",
       "    .dataframe tbody tr th:only-of-type {\n",
       "        vertical-align: middle;\n",
       "    }\n",
       "\n",
       "    .dataframe tbody tr th {\n",
       "        vertical-align: top;\n",
       "    }\n",
       "\n",
       "    .dataframe thead th {\n",
       "        text-align: right;\n",
       "    }\n",
       "</style>\n",
       "<table border=\"1\" class=\"dataframe\">\n",
       "  <thead>\n",
       "    <tr style=\"text-align: right;\">\n",
       "      <th></th>\n",
       "      <th>Survived</th>\n",
       "      <th>Pclass</th>\n",
       "      <th>Sex</th>\n",
       "      <th>Fare</th>\n",
       "      <th>Embarked</th>\n",
       "    </tr>\n",
       "  </thead>\n",
       "  <tbody>\n",
       "    <tr>\n",
       "      <th>0</th>\n",
       "      <td>0.0</td>\n",
       "      <td>3</td>\n",
       "      <td>0</td>\n",
       "      <td>7.2500</td>\n",
       "      <td>0</td>\n",
       "    </tr>\n",
       "    <tr>\n",
       "      <th>1</th>\n",
       "      <td>1.0</td>\n",
       "      <td>1</td>\n",
       "      <td>1</td>\n",
       "      <td>71.2833</td>\n",
       "      <td>1</td>\n",
       "    </tr>\n",
       "    <tr>\n",
       "      <th>2</th>\n",
       "      <td>1.0</td>\n",
       "      <td>3</td>\n",
       "      <td>1</td>\n",
       "      <td>7.9250</td>\n",
       "      <td>0</td>\n",
       "    </tr>\n",
       "    <tr>\n",
       "      <th>3</th>\n",
       "      <td>1.0</td>\n",
       "      <td>1</td>\n",
       "      <td>1</td>\n",
       "      <td>53.1000</td>\n",
       "      <td>0</td>\n",
       "    </tr>\n",
       "    <tr>\n",
       "      <th>4</th>\n",
       "      <td>0.0</td>\n",
       "      <td>3</td>\n",
       "      <td>0</td>\n",
       "      <td>8.0500</td>\n",
       "      <td>0</td>\n",
       "    </tr>\n",
       "  </tbody>\n",
       "</table>\n",
       "</div>"
      ],
      "text/plain": [
       "   Survived  Pclass  Sex     Fare  Embarked\n",
       "0       0.0       3    0   7.2500         0\n",
       "1       1.0       1    1  71.2833         1\n",
       "2       1.0       3    1   7.9250         0\n",
       "3       1.0       1    1  53.1000         0\n",
       "4       0.0       3    0   8.0500         0"
      ]
     },
     "execution_count": 8,
     "metadata": {},
     "output_type": "execute_result"
    }
   ],
   "source": [
    "df_clean_NNA.head()"
   ]
  },
  {
   "cell_type": "code",
   "execution_count": 9,
   "id": "0ce3bd57",
   "metadata": {},
   "outputs": [],
   "source": [
    "df_clean_mult_sex = make_col_mult(df_clean,'Sex')\n",
    "df_clean_NNA_mult_sex = make_col_mult(df_clean_NNA,'Sex')"
   ]
  },
  {
   "cell_type": "code",
   "execution_count": 10,
   "id": "6c00ef41",
   "metadata": {},
   "outputs": [],
   "source": [
    "df_train = df_train.drop(['Name','Ticket','Cabin','Age'], axis=1)\n",
    "df_test = df_test.drop(['Name','Ticket','Cabin','Age'], axis=1)"
   ]
  },
  {
   "cell_type": "code",
   "execution_count": 11,
   "id": "ce7b2bf8",
   "metadata": {},
   "outputs": [],
   "source": [
    "df_train.loc[df_train['Sex'] == 'male', 'Sex'] = 0\n",
    "df_train.loc[df_train['Sex'] == 'female', 'Sex'] = 1\n",
    "\n",
    "df_test.loc[df_test['Sex'] == 'male', 'Sex'] = 0\n",
    "df_test.loc[df_test['Sex'] == 'female', 'Sex'] = 1"
   ]
  },
  {
   "cell_type": "code",
   "execution_count": 12,
   "id": "98f146ab",
   "metadata": {},
   "outputs": [
    {
     "data": {
      "text/html": [
       "<div>\n",
       "<style scoped>\n",
       "    .dataframe tbody tr th:only-of-type {\n",
       "        vertical-align: middle;\n",
       "    }\n",
       "\n",
       "    .dataframe tbody tr th {\n",
       "        vertical-align: top;\n",
       "    }\n",
       "\n",
       "    .dataframe thead th {\n",
       "        text-align: right;\n",
       "    }\n",
       "</style>\n",
       "<table border=\"1\" class=\"dataframe\">\n",
       "  <thead>\n",
       "    <tr style=\"text-align: right;\">\n",
       "      <th></th>\n",
       "      <th>PassengerId</th>\n",
       "      <th>Survived</th>\n",
       "      <th>Pclass</th>\n",
       "      <th>Sex</th>\n",
       "      <th>SibSp</th>\n",
       "      <th>Parch</th>\n",
       "      <th>Fare</th>\n",
       "      <th>Embarked</th>\n",
       "    </tr>\n",
       "  </thead>\n",
       "  <tbody>\n",
       "    <tr>\n",
       "      <th>0</th>\n",
       "      <td>1</td>\n",
       "      <td>0</td>\n",
       "      <td>3</td>\n",
       "      <td>0</td>\n",
       "      <td>1</td>\n",
       "      <td>0</td>\n",
       "      <td>7.2500</td>\n",
       "      <td>S</td>\n",
       "    </tr>\n",
       "    <tr>\n",
       "      <th>1</th>\n",
       "      <td>2</td>\n",
       "      <td>1</td>\n",
       "      <td>1</td>\n",
       "      <td>1</td>\n",
       "      <td>1</td>\n",
       "      <td>0</td>\n",
       "      <td>71.2833</td>\n",
       "      <td>C</td>\n",
       "    </tr>\n",
       "    <tr>\n",
       "      <th>2</th>\n",
       "      <td>3</td>\n",
       "      <td>1</td>\n",
       "      <td>3</td>\n",
       "      <td>1</td>\n",
       "      <td>0</td>\n",
       "      <td>0</td>\n",
       "      <td>7.9250</td>\n",
       "      <td>S</td>\n",
       "    </tr>\n",
       "    <tr>\n",
       "      <th>3</th>\n",
       "      <td>4</td>\n",
       "      <td>1</td>\n",
       "      <td>1</td>\n",
       "      <td>1</td>\n",
       "      <td>1</td>\n",
       "      <td>0</td>\n",
       "      <td>53.1000</td>\n",
       "      <td>S</td>\n",
       "    </tr>\n",
       "    <tr>\n",
       "      <th>4</th>\n",
       "      <td>5</td>\n",
       "      <td>0</td>\n",
       "      <td>3</td>\n",
       "      <td>0</td>\n",
       "      <td>0</td>\n",
       "      <td>0</td>\n",
       "      <td>8.0500</td>\n",
       "      <td>S</td>\n",
       "    </tr>\n",
       "  </tbody>\n",
       "</table>\n",
       "</div>"
      ],
      "text/plain": [
       "   PassengerId  Survived  Pclass Sex  SibSp  Parch     Fare Embarked\n",
       "0            1         0       3   0      1      0   7.2500        S\n",
       "1            2         1       1   1      1      0  71.2833        C\n",
       "2            3         1       3   1      0      0   7.9250        S\n",
       "3            4         1       1   1      1      0  53.1000        S\n",
       "4            5         0       3   0      0      0   8.0500        S"
      ]
     },
     "execution_count": 12,
     "metadata": {},
     "output_type": "execute_result"
    }
   ],
   "source": [
    "df_train.head()"
   ]
  },
  {
   "cell_type": "code",
   "execution_count": 13,
   "id": "5ae1a1da",
   "metadata": {},
   "outputs": [
    {
     "name": "stdout",
     "output_type": "stream",
     "text": [
      "342\n"
     ]
    }
   ],
   "source": [
    "print(sum(df['Survived'] == 1))"
   ]
  },
  {
   "cell_type": "code",
   "execution_count": 14,
   "id": "082bdb63",
   "metadata": {},
   "outputs": [
    {
     "name": "stdout",
     "output_type": "stream",
     "text": [
      "549\n"
     ]
    }
   ],
   "source": [
    "print(sum(df['Survived'] == 0))"
   ]
  },
  {
   "cell_type": "code",
   "execution_count": 15,
   "id": "2e4e5e3e",
   "metadata": {},
   "outputs": [],
   "source": [
    "def make_even_split(df):\n",
    "    num_s = sum(df['Survived'] == 1)\n",
    "    num_d = sum(df['Survived'] == 0)\n",
    "    print(num_s)\n",
    "    print(num_d)\n",
    "    df_dead = df[df['Survived'] == 0]\n",
    "    drop_indices = np.random.choice(df_dead.index, (num_d - num_s), replace=False)\n",
    "    df_subset = df_dead.drop(drop_indices)\n",
    "    df_fin = pd.concat([df[df['Survived'] == 1],df_dead])\n",
    "    return df_fin"
   ]
  },
  {
   "cell_type": "code",
   "execution_count": 16,
   "id": "42b52f27",
   "metadata": {},
   "outputs": [],
   "source": [
    "df_dead = df[df['Survived'] == 0]"
   ]
  },
  {
   "cell_type": "code",
   "execution_count": 17,
   "id": "27530c3a",
   "metadata": {},
   "outputs": [],
   "source": [
    "drop_indices = np.random.choice(df_dead.index, 209, replace=False)\n",
    "df_subset = df_dead.drop(drop_indices)"
   ]
  },
  {
   "cell_type": "code",
   "execution_count": 18,
   "id": "9958f433",
   "metadata": {},
   "outputs": [
    {
     "name": "stdout",
     "output_type": "stream",
     "text": [
      "342\n",
      "549\n"
     ]
    }
   ],
   "source": [
    "df_fin = make_even_split(df_clean)"
   ]
  },
  {
   "cell_type": "code",
   "execution_count": 19,
   "id": "4118ec31",
   "metadata": {},
   "outputs": [],
   "source": [
    "X = df_fin.drop(['Survived'], axis=1)\n",
    "y = df_fin['Survived']"
   ]
  },
  {
   "cell_type": "code",
   "execution_count": 20,
   "id": "f160dbec",
   "metadata": {},
   "outputs": [],
   "source": [
    "X_train, X_test, y_train, y_test = train_test_split(X, y, test_size=0.2, random_state=42)"
   ]
  },
  {
   "cell_type": "code",
   "execution_count": 21,
   "id": "4fc14ac9",
   "metadata": {},
   "outputs": [],
   "source": [
    "clf = LogisticRegression(max_iter=1000)"
   ]
  },
  {
   "cell_type": "code",
   "execution_count": 22,
   "id": "267f9215",
   "metadata": {},
   "outputs": [],
   "source": [
    "n_X = (X_train.to_numpy())"
   ]
  },
  {
   "cell_type": "code",
   "execution_count": 23,
   "id": "5bfc419c",
   "metadata": {},
   "outputs": [
    {
     "data": {
      "text/plain": [
       "LogisticRegression(max_iter=1000)"
      ]
     },
     "execution_count": 23,
     "metadata": {},
     "output_type": "execute_result"
    }
   ],
   "source": [
    "clf.fit((X_train), (y_train))"
   ]
  },
  {
   "cell_type": "code",
   "execution_count": 24,
   "id": "daa5b049",
   "metadata": {},
   "outputs": [
    {
     "data": {
      "text/plain": [
       "0.8117977528089888"
      ]
     },
     "execution_count": 24,
     "metadata": {},
     "output_type": "execute_result"
    }
   ],
   "source": [
    "clf.score(X_train,y_train)"
   ]
  },
  {
   "cell_type": "code",
   "execution_count": 25,
   "id": "0a3bcf33",
   "metadata": {},
   "outputs": [],
   "source": [
    "y_pred = clf.predict(X_test)"
   ]
  },
  {
   "cell_type": "code",
   "execution_count": 26,
   "id": "8c4a6628",
   "metadata": {},
   "outputs": [
    {
     "data": {
      "text/plain": [
       "0.7821229050279329"
      ]
     },
     "execution_count": 26,
     "metadata": {},
     "output_type": "execute_result"
    }
   ],
   "source": [
    "clf.score(X_test,y_test)"
   ]
  },
  {
   "cell_type": "code",
   "execution_count": 27,
   "id": "fd8f907a",
   "metadata": {},
   "outputs": [],
   "source": [
    "def pred_df(df_fin):\n",
    "    X = df_fin.drop(['Survived'], axis=1)\n",
    "    y = df_fin['Survived']\n",
    "    X_train, X_test, y_train, y_test = train_test_split(X, y, test_size=0.2, random_state=42)\n",
    "    clf = LogisticRegression(max_iter=1000)\n",
    "    n_X = (X_train.to_numpy())\n",
    "    clf.fit((X_train), (y_train))\n",
    "    multi.plot_roc(clf, X_test, y_test, 'Plot of the roc for logistic regression using the titainic dataset')\n",
    "    print('Training Score')\n",
    "    print(clf.score(X_train,y_train))\n",
    "    print('Testing Score')\n",
    "    print(clf.score(X_test,y_test))\n",
    "    f1 = multi.calc_f1(clf, X_test, y_test)\n",
    "    print(f\"Weighted F1-score = {f1}\")\n",
    "    pred_y = clf.predict(X_test)\n",
    "    print(sklearn.metrics.classification_report(y_true=y_test, y_pred=pred_y))"
   ]
  },
  {
   "cell_type": "code",
   "execution_count": 28,
   "id": "e332ebb9",
   "metadata": {},
   "outputs": [
    {
     "name": "stdout",
     "output_type": "stream",
     "text": [
      "342\n",
      "549\n",
      "340\n",
      "549\n",
      "342\n",
      "549\n",
      "340\n",
      "549\n"
     ]
    }
   ],
   "source": [
    "df_clean_e = make_even_split(df_clean)\n",
    "df_clean_NNA_e = make_even_split(df_clean_NNA)\n",
    "df_clean_mult_sex_e = make_even_split(df_clean_mult_sex)\n",
    "df_clean_NNA_mult_sex_e = make_even_split(df_clean_NNA_mult_sex)"
   ]
  },
  {
   "cell_type": "code",
   "execution_count": 29,
   "id": "09a22fc6",
   "metadata": {},
   "outputs": [
    {
     "data": {
      "image/png": "[encoded data removed]",
      "text/plain": [
       "<Figure size 432x288 with 1 Axes>"
      ]
     },
     "metadata": {
      "needs_background": "light"
     },
     "output_type": "display_data"
    },
    {
     "name": "stdout",
     "output_type": "stream",
     "text": [
      "Training Score\n",
      "0.8117977528089888\n",
      "Testing Score\n",
      "0.7821229050279329\n",
      "Weighted F1-score = 0.7802287550373269\n",
      "              precision    recall  f1-score   support\n",
      "\n",
      "         0.0       0.79      0.85      0.82       105\n",
      "         1.0       0.76      0.69      0.72        74\n",
      "\n",
      "    accuracy                           0.78       179\n",
      "   macro avg       0.78      0.77      0.77       179\n",
      "weighted avg       0.78      0.78      0.78       179\n",
      "\n"
     ]
    }
   ],
   "source": [
    "pred_df(df_clean_e)"
   ]
  },
  {
   "cell_type": "code",
   "execution_count": 30,
   "id": "7d608b9d",
   "metadata": {},
   "outputs": [
    {
     "data": {
      "image/png": "[encoded data removed]",
      "text/plain": [
       "<Figure size 432x288 with 1 Axes>"
      ]
     },
     "metadata": {
      "needs_background": "light"
     },
     "output_type": "display_data"
    },
    {
     "name": "stdout",
     "output_type": "stream",
     "text": [
      "Training Score\n",
      "0.7946554149085795\n",
      "Testing Score\n",
      "0.7584269662921348\n",
      "Weighted F1-score = 0.756776382286865\n",
      "              precision    recall  f1-score   support\n",
      "\n",
      "         0.0       0.79      0.82      0.80       107\n",
      "         1.0       0.71      0.66      0.69        71\n",
      "\n",
      "    accuracy                           0.76       178\n",
      "   macro avg       0.75      0.74      0.74       178\n",
      "weighted avg       0.76      0.76      0.76       178\n",
      "\n"
     ]
    }
   ],
   "source": [
    "pred_df(df_clean_NNA_e)"
   ]
  },
  {
   "cell_type": "code",
   "execution_count": 31,
   "id": "4260d42d",
   "metadata": {},
   "outputs": [
    {
     "data": {
      "image/png": "[encoded data removed]",
      "text/plain": [
       "<Figure size 432x288 with 1 Axes>"
      ]
     },
     "metadata": {
      "needs_background": "light"
     },
     "output_type": "display_data"
    },
    {
     "name": "stdout",
     "output_type": "stream",
     "text": [
      "Training Score\n",
      "0.8117977528089888\n",
      "Testing Score\n",
      "0.7821229050279329\n",
      "Weighted F1-score = 0.7802287550373269\n",
      "              precision    recall  f1-score   support\n",
      "\n",
      "         0.0       0.79      0.85      0.82       105\n",
      "         1.0       0.76      0.69      0.72        74\n",
      "\n",
      "    accuracy                           0.78       179\n",
      "   macro avg       0.78      0.77      0.77       179\n",
      "weighted avg       0.78      0.78      0.78       179\n",
      "\n"
     ]
    }
   ],
   "source": [
    "pred_df(df_clean_mult_sex_e)"
   ]
  },
  {
   "cell_type": "code",
   "execution_count": 32,
   "id": "faac6ae2",
   "metadata": {},
   "outputs": [
    {
     "data": {
      "image/png": "[encoded data removed]",
      "text/plain": [
       "<Figure size 432x288 with 1 Axes>"
      ]
     },
     "metadata": {
      "needs_background": "light"
     },
     "output_type": "display_data"
    },
    {
     "name": "stdout",
     "output_type": "stream",
     "text": [
      "Training Score\n",
      "0.7946554149085795\n",
      "Testing Score\n",
      "0.7584269662921348\n",
      "Weighted F1-score = 0.756776382286865\n",
      "              precision    recall  f1-score   support\n",
      "\n",
      "         0.0       0.79      0.82      0.80       107\n",
      "         1.0       0.71      0.66      0.69        71\n",
      "\n",
      "    accuracy                           0.76       178\n",
      "   macro avg       0.75      0.74      0.74       178\n",
      "weighted avg       0.76      0.76      0.76       178\n",
      "\n"
     ]
    }
   ],
   "source": [
    "pred_df(df_clean_NNA_mult_sex_e)"
   ]
  },
  {
   "cell_type": "code",
   "execution_count": null,
   "id": "dbdcda1e",
   "metadata": {},
   "outputs": [],
   "source": []
  },
  {
   "cell_type": "code",
   "execution_count": null,
   "id": "d72837b8",
   "metadata": {},
   "outputs": [],
   "source": []
  },
  {
   "cell_type": "code",
   "execution_count": null,
   "id": "be184614",
   "metadata": {},
   "outputs": [],
   "source": []
  }
 ],
 "metadata": {
  "kernelspec": {
   "display_name": "Python 3 (ipykernel)",
   "language": "python",
   "name": "python3"
  },
  "language_info": {
   "codemirror_mode": {
    "name": "ipython",
    "version": 3
   },
   "file_extension": ".py",
   "mimetype": "text/x-python",
   "name": "python",
   "nbconvert_exporter": "python",
   "pygments_lexer": "ipython3",
   "version": "3.9.7"
  }
 },
 "nbformat": 4,
 "nbformat_minor": 5
}
