{
 "cells": [
  {
   "cell_type": "code",
   "execution_count": 1,
   "id": "ef9ffdae-3ec8-4b9a-b1c4-b7b0eb41264b",
   "metadata": {},
   "outputs": [],
   "source": [
    "import pandas as pd\n",
    "import numpy as np\n",
    "import matplotlib.pyplot as plt\n",
    "import sklearn\n",
    "import sklearn.ensemble\n",
    "import sklearn.model_selection\n",
    "import sklearn.metrics\n",
    "\n",
    "import sys\n",
    "# Our util file is in the parent directory\n",
    "sys.path.append('../')\n",
    "import utils as mutil\n",
    "\n",
    "from IPython.display import Markdown, display\n",
    "def printmd(string):\n",
    "    display(Markdown(string))"
   ]
  },
  {
   "cell_type": "markdown",
   "id": "d55b9544-fca7-4aa5-b44c-0a759874e4ae",
   "metadata": {},
   "source": [
    "## Load the data"
   ]
  },
  {
   "cell_type": "code",
   "execution_count": 2,
   "id": "33eb0830-2229-40e7-9b1f-43c732587624",
   "metadata": {},
   "outputs": [
    {
     "data": {
      "text/html": [
       "<div>\n",
       "<style scoped>\n",
       "    .dataframe tbody tr th:only-of-type {\n",
       "        vertical-align: middle;\n",
       "    }\n",
       "\n",
       "    .dataframe tbody tr th {\n",
       "        vertical-align: top;\n",
       "    }\n",
       "\n",
       "    .dataframe thead th {\n",
       "        text-align: right;\n",
       "    }\n",
       "</style>\n",
       "<table border=\"1\" class=\"dataframe\">\n",
       "  <thead>\n",
       "    <tr style=\"text-align: right;\">\n",
       "      <th></th>\n",
       "      <th>PassengerId</th>\n",
       "      <th>Survived</th>\n",
       "      <th>Pclass</th>\n",
       "      <th>Name</th>\n",
       "      <th>Sex</th>\n",
       "      <th>Age</th>\n",
       "      <th>SibSp</th>\n",
       "      <th>Parch</th>\n",
       "      <th>Ticket</th>\n",
       "      <th>Fare</th>\n",
       "      <th>Cabin</th>\n",
       "      <th>Embarked</th>\n",
       "    </tr>\n",
       "  </thead>\n",
       "  <tbody>\n",
       "    <tr>\n",
       "      <th>0</th>\n",
       "      <td>1</td>\n",
       "      <td>0</td>\n",
       "      <td>3</td>\n",
       "      <td>Braund, Mr. Owen Harris</td>\n",
       "      <td>male</td>\n",
       "      <td>22.0</td>\n",
       "      <td>1</td>\n",
       "      <td>0</td>\n",
       "      <td>A/5 21171</td>\n",
       "      <td>7.2500</td>\n",
       "      <td>NaN</td>\n",
       "      <td>S</td>\n",
       "    </tr>\n",
       "    <tr>\n",
       "      <th>1</th>\n",
       "      <td>2</td>\n",
       "      <td>1</td>\n",
       "      <td>1</td>\n",
       "      <td>Cumings, Mrs. John Bradley (Florence Briggs Th...</td>\n",
       "      <td>female</td>\n",
       "      <td>38.0</td>\n",
       "      <td>1</td>\n",
       "      <td>0</td>\n",
       "      <td>PC 17599</td>\n",
       "      <td>71.2833</td>\n",
       "      <td>C85</td>\n",
       "      <td>C</td>\n",
       "    </tr>\n",
       "    <tr>\n",
       "      <th>2</th>\n",
       "      <td>3</td>\n",
       "      <td>1</td>\n",
       "      <td>3</td>\n",
       "      <td>Heikkinen, Miss. Laina</td>\n",
       "      <td>female</td>\n",
       "      <td>26.0</td>\n",
       "      <td>0</td>\n",
       "      <td>0</td>\n",
       "      <td>STON/O2. 3101282</td>\n",
       "      <td>7.9250</td>\n",
       "      <td>NaN</td>\n",
       "      <td>S</td>\n",
       "    </tr>\n",
       "    <tr>\n",
       "      <th>3</th>\n",
       "      <td>4</td>\n",
       "      <td>1</td>\n",
       "      <td>1</td>\n",
       "      <td>Futrelle, Mrs. Jacques Heath (Lily May Peel)</td>\n",
       "      <td>female</td>\n",
       "      <td>35.0</td>\n",
       "      <td>1</td>\n",
       "      <td>0</td>\n",
       "      <td>113803</td>\n",
       "      <td>53.1000</td>\n",
       "      <td>C123</td>\n",
       "      <td>S</td>\n",
       "    </tr>\n",
       "    <tr>\n",
       "      <th>4</th>\n",
       "      <td>5</td>\n",
       "      <td>0</td>\n",
       "      <td>3</td>\n",
       "      <td>Allen, Mr. William Henry</td>\n",
       "      <td>male</td>\n",
       "      <td>35.0</td>\n",
       "      <td>0</td>\n",
       "      <td>0</td>\n",
       "      <td>373450</td>\n",
       "      <td>8.0500</td>\n",
       "      <td>NaN</td>\n",
       "      <td>S</td>\n",
       "    </tr>\n",
       "  </tbody>\n",
       "</table>\n",
       "</div>"
      ],
      "text/plain": [
       "   PassengerId  Survived  Pclass  \\\n",
       "0            1         0       3   \n",
       "1            2         1       1   \n",
       "2            3         1       3   \n",
       "3            4         1       1   \n",
       "4            5         0       3   \n",
       "\n",
       "                                                Name     Sex   Age  SibSp  \\\n",
       "0                            Braund, Mr. Owen Harris    male  22.0      1   \n",
       "1  Cumings, Mrs. John Bradley (Florence Briggs Th...  female  38.0      1   \n",
       "2                             Heikkinen, Miss. Laina  female  26.0      0   \n",
       "3       Futrelle, Mrs. Jacques Heath (Lily May Peel)  female  35.0      1   \n",
       "4                           Allen, Mr. William Henry    male  35.0      0   \n",
       "\n",
       "   Parch            Ticket     Fare Cabin Embarked  \n",
       "0      0         A/5 21171   7.2500   NaN        S  \n",
       "1      0          PC 17599  71.2833   C85        C  \n",
       "2      0  STON/O2. 3101282   7.9250   NaN        S  \n",
       "3      0            113803  53.1000  C123        S  \n",
       "4      0            373450   8.0500   NaN        S  "
      ]
     },
     "execution_count": 2,
     "metadata": {},
     "output_type": "execute_result"
    }
   ],
   "source": [
    "titanic_train = pd.read_csv(\"../titanic/train.csv\")\n",
    "titanic_train_ids = titanic_train['PassengerId']\n",
    "titanic_test = pd.read_csv(\"../titanic/test.csv\")\n",
    "titanic_test_ids = titanic_test['PassengerId']\n",
    "\n",
    "titanic_train.head()"
   ]
  },
  {
   "cell_type": "code",
   "execution_count": 3,
   "id": "be7a7091-ef2d-46b2-9d7f-8dc17738184e",
   "metadata": {},
   "outputs": [
    {
     "data": {
      "text/plain": [
       "Embarked\n",
       "C    168\n",
       "Q     77\n",
       "S    644\n",
       "Name: Embarked, dtype: int64"
      ]
     },
     "metadata": {},
     "output_type": "display_data"
    },
    {
     "name": "stdout",
     "output_type": "stream",
     "text": [
      "889 / 891\n",
      "714 / 891\n"
     ]
    },
    {
     "data": {
      "text/html": [
       "<div>\n",
       "<style scoped>\n",
       "    .dataframe tbody tr th:only-of-type {\n",
       "        vertical-align: middle;\n",
       "    }\n",
       "\n",
       "    .dataframe tbody tr th {\n",
       "        vertical-align: top;\n",
       "    }\n",
       "\n",
       "    .dataframe thead th {\n",
       "        text-align: right;\n",
       "    }\n",
       "</style>\n",
       "<table border=\"1\" class=\"dataframe\">\n",
       "  <thead>\n",
       "    <tr style=\"text-align: right;\">\n",
       "      <th></th>\n",
       "      <th>PassengerId</th>\n",
       "      <th>Pclass</th>\n",
       "      <th>Name</th>\n",
       "      <th>Sex</th>\n",
       "      <th>Age</th>\n",
       "      <th>SibSp</th>\n",
       "      <th>Parch</th>\n",
       "      <th>Ticket</th>\n",
       "      <th>Fare</th>\n",
       "      <th>Cabin</th>\n",
       "      <th>Embarked</th>\n",
       "    </tr>\n",
       "  </thead>\n",
       "  <tbody>\n",
       "    <tr>\n",
       "      <th>count</th>\n",
       "      <td>418.000000</td>\n",
       "      <td>418.000000</td>\n",
       "      <td>418</td>\n",
       "      <td>418</td>\n",
       "      <td>332.000000</td>\n",
       "      <td>418.000000</td>\n",
       "      <td>418.000000</td>\n",
       "      <td>418</td>\n",
       "      <td>417.000000</td>\n",
       "      <td>91</td>\n",
       "      <td>418</td>\n",
       "    </tr>\n",
       "    <tr>\n",
       "      <th>unique</th>\n",
       "      <td>NaN</td>\n",
       "      <td>NaN</td>\n",
       "      <td>418</td>\n",
       "      <td>2</td>\n",
       "      <td>NaN</td>\n",
       "      <td>NaN</td>\n",
       "      <td>NaN</td>\n",
       "      <td>363</td>\n",
       "      <td>NaN</td>\n",
       "      <td>76</td>\n",
       "      <td>3</td>\n",
       "    </tr>\n",
       "    <tr>\n",
       "      <th>top</th>\n",
       "      <td>NaN</td>\n",
       "      <td>NaN</td>\n",
       "      <td>Kelly, Mr. James</td>\n",
       "      <td>male</td>\n",
       "      <td>NaN</td>\n",
       "      <td>NaN</td>\n",
       "      <td>NaN</td>\n",
       "      <td>PC 17608</td>\n",
       "      <td>NaN</td>\n",
       "      <td>B57 B59 B63 B66</td>\n",
       "      <td>S</td>\n",
       "    </tr>\n",
       "    <tr>\n",
       "      <th>freq</th>\n",
       "      <td>NaN</td>\n",
       "      <td>NaN</td>\n",
       "      <td>1</td>\n",
       "      <td>266</td>\n",
       "      <td>NaN</td>\n",
       "      <td>NaN</td>\n",
       "      <td>NaN</td>\n",
       "      <td>5</td>\n",
       "      <td>NaN</td>\n",
       "      <td>3</td>\n",
       "      <td>270</td>\n",
       "    </tr>\n",
       "    <tr>\n",
       "      <th>mean</th>\n",
       "      <td>1100.500000</td>\n",
       "      <td>2.265550</td>\n",
       "      <td>NaN</td>\n",
       "      <td>NaN</td>\n",
       "      <td>30.272590</td>\n",
       "      <td>0.447368</td>\n",
       "      <td>0.392344</td>\n",
       "      <td>NaN</td>\n",
       "      <td>35.627188</td>\n",
       "      <td>NaN</td>\n",
       "      <td>NaN</td>\n",
       "    </tr>\n",
       "    <tr>\n",
       "      <th>std</th>\n",
       "      <td>120.810458</td>\n",
       "      <td>0.841838</td>\n",
       "      <td>NaN</td>\n",
       "      <td>NaN</td>\n",
       "      <td>14.181209</td>\n",
       "      <td>0.896760</td>\n",
       "      <td>0.981429</td>\n",
       "      <td>NaN</td>\n",
       "      <td>55.907576</td>\n",
       "      <td>NaN</td>\n",
       "      <td>NaN</td>\n",
       "    </tr>\n",
       "    <tr>\n",
       "      <th>min</th>\n",
       "      <td>892.000000</td>\n",
       "      <td>1.000000</td>\n",
       "      <td>NaN</td>\n",
       "      <td>NaN</td>\n",
       "      <td>0.170000</td>\n",
       "      <td>0.000000</td>\n",
       "      <td>0.000000</td>\n",
       "      <td>NaN</td>\n",
       "      <td>0.000000</td>\n",
       "      <td>NaN</td>\n",
       "      <td>NaN</td>\n",
       "    </tr>\n",
       "    <tr>\n",
       "      <th>25%</th>\n",
       "      <td>996.250000</td>\n",
       "      <td>1.000000</td>\n",
       "      <td>NaN</td>\n",
       "      <td>NaN</td>\n",
       "      <td>21.000000</td>\n",
       "      <td>0.000000</td>\n",
       "      <td>0.000000</td>\n",
       "      <td>NaN</td>\n",
       "      <td>7.895800</td>\n",
       "      <td>NaN</td>\n",
       "      <td>NaN</td>\n",
       "    </tr>\n",
       "    <tr>\n",
       "      <th>50%</th>\n",
       "      <td>1100.500000</td>\n",
       "      <td>3.000000</td>\n",
       "      <td>NaN</td>\n",
       "      <td>NaN</td>\n",
       "      <td>27.000000</td>\n",
       "      <td>0.000000</td>\n",
       "      <td>0.000000</td>\n",
       "      <td>NaN</td>\n",
       "      <td>14.454200</td>\n",
       "      <td>NaN</td>\n",
       "      <td>NaN</td>\n",
       "    </tr>\n",
       "    <tr>\n",
       "      <th>75%</th>\n",
       "      <td>1204.750000</td>\n",
       "      <td>3.000000</td>\n",
       "      <td>NaN</td>\n",
       "      <td>NaN</td>\n",
       "      <td>39.000000</td>\n",
       "      <td>1.000000</td>\n",
       "      <td>0.000000</td>\n",
       "      <td>NaN</td>\n",
       "      <td>31.500000</td>\n",
       "      <td>NaN</td>\n",
       "      <td>NaN</td>\n",
       "    </tr>\n",
       "    <tr>\n",
       "      <th>max</th>\n",
       "      <td>1309.000000</td>\n",
       "      <td>3.000000</td>\n",
       "      <td>NaN</td>\n",
       "      <td>NaN</td>\n",
       "      <td>76.000000</td>\n",
       "      <td>8.000000</td>\n",
       "      <td>9.000000</td>\n",
       "      <td>NaN</td>\n",
       "      <td>512.329200</td>\n",
       "      <td>NaN</td>\n",
       "      <td>NaN</td>\n",
       "    </tr>\n",
       "  </tbody>\n",
       "</table>\n",
       "</div>"
      ],
      "text/plain": [
       "        PassengerId      Pclass              Name   Sex         Age  \\\n",
       "count    418.000000  418.000000               418   418  332.000000   \n",
       "unique          NaN         NaN               418     2         NaN   \n",
       "top             NaN         NaN  Kelly, Mr. James  male         NaN   \n",
       "freq            NaN         NaN                 1   266         NaN   \n",
       "mean    1100.500000    2.265550               NaN   NaN   30.272590   \n",
       "std      120.810458    0.841838               NaN   NaN   14.181209   \n",
       "min      892.000000    1.000000               NaN   NaN    0.170000   \n",
       "25%      996.250000    1.000000               NaN   NaN   21.000000   \n",
       "50%     1100.500000    3.000000               NaN   NaN   27.000000   \n",
       "75%     1204.750000    3.000000               NaN   NaN   39.000000   \n",
       "max     1309.000000    3.000000               NaN   NaN   76.000000   \n",
       "\n",
       "             SibSp       Parch    Ticket        Fare            Cabin Embarked  \n",
       "count   418.000000  418.000000       418  417.000000               91      418  \n",
       "unique         NaN         NaN       363         NaN               76        3  \n",
       "top            NaN         NaN  PC 17608         NaN  B57 B59 B63 B66        S  \n",
       "freq           NaN         NaN         5         NaN                3      270  \n",
       "mean      0.447368    0.392344       NaN   35.627188              NaN      NaN  \n",
       "std       0.896760    0.981429       NaN   55.907576              NaN      NaN  \n",
       "min       0.000000    0.000000       NaN    0.000000              NaN      NaN  \n",
       "25%       0.000000    0.000000       NaN    7.895800              NaN      NaN  \n",
       "50%       0.000000    0.000000       NaN   14.454200              NaN      NaN  \n",
       "75%       1.000000    0.000000       NaN   31.500000              NaN      NaN  \n",
       "max       8.000000    9.000000       NaN  512.329200              NaN      NaN  "
      ]
     },
     "execution_count": 3,
     "metadata": {},
     "output_type": "execute_result"
    }
   ],
   "source": [
    "# Data exploration\n",
    "display(titanic_train.groupby('Embarked')['Embarked'].count())\n",
    "print(titanic_train['Embarked'].count(), '/', titanic_train['PassengerId'].count())\n",
    "\n",
    "print(titanic_train['Age'].count(), '/', titanic_train['PassengerId'].count())\n",
    "\n",
    "titanic_test.describe(include='all')"
   ]
  },
  {
   "cell_type": "markdown",
   "id": "08e6632d-46fd-459b-909d-696fad5de0c5",
   "metadata": {},
   "source": [
    "## Preprocess the data to increase the usability for our ML techniques\n",
    "__Transformations:__\n",
    "* The Cabin feature is not usable in its current form but it contains the information if the person had a cabin or not, so we can extract that information\n",
    "    * Cabin => yes (1) | no (0)\n",
    "* The sibling (SibSp) and parent (Parch) features are very simillar and can be combined into a family size parameter to describe the circumstances more concise and therfore make it easier for our model to learn\n",
    "    * SibSp + Parch => Family size\n",
    "* The embarked column has 2 missing entries, we can fill those with the most common option 'S'\n",
    "<!--     * Then we can map it into a numerical value to make it more interoperable with numeric ML techniques -->\n",
    "* Age has many missing values so we will replace the missing values with the mean of the column\n",
    "    * Another option would be to replace missing values with random values using the standard deviation curve arround the mean and variance of the Age column\n",
    "* In the test data the Fare column has missing values as well, we also fill these with the mean of that column\n",
    "\n",
    "### Sources:\n",
    "* https://www.kaggle.com/code/sinakhorami/titanic-best-working-classifier\n",
    "* https://www.kaggle.com/code/dmilla/introduction-to-decision-trees-titanic-dataset/notebook"
   ]
  },
  {
   "cell_type": "code",
   "execution_count": 4,
   "id": "f6d1f90e-93f2-4a50-bdaf-dd29a30facf4",
   "metadata": {},
   "outputs": [],
   "source": [
    "def replace_random(df, c):\n",
    "    avg = df[c].mean()\n",
    "    std = df[c].std()\n",
    "    null_count = df[c].isnull().sum()\n",
    "    \n",
    "    null_random_list = np.random.randint(avg - std, avg + std, size=null_count)\n",
    "    df.loc[np.isnan(df[c]), c] = null_random_list\n",
    "    return\n",
    "\n",
    "def preprocess(orig_df: pd.DataFrame):\n",
    "    df = orig_df.copy()\n",
    "    embarked_map = {'S': 0, 'C': 1, 'Q': 2}\n",
    "    drop_columns = ['PassengerId', 'Name', 'SibSp', 'Parch', 'Ticket', 'Cabin']\n",
    "    df['Had Cabin'] = df['Cabin'].map(lambda c: 0 if type(c) != str else 1)\n",
    "    df['Family size'] = df['SibSp'] + df['Parch']\n",
    "    df['Embarked'] = df['Embarked'].fillna('S').map(lambda c: embarked_map[c])\n",
    "    df['Sex'] = df['Sex'].map(lambda c: 0 if c == 'male' else 1)\n",
    "    # df['Age'] = df['Age'].fillna(df['Age'].mean())\n",
    "    replace_random(df, 'Age')\n",
    "    # df['Fare'] = df['Fare'].fillna(df['Fare'].mean())\n",
    "    replace_random(df, 'Fare')\n",
    "\n",
    "    # Drop all unused columns\n",
    "    df = df.drop(columns=drop_columns)\n",
    "    return df\n",
    "    \n",
    "titanic_train_clean = preprocess(titanic_train)\n",
    "#titanic_train[['SibSp', 'Parch', 'Family size']]"
   ]
  },
  {
   "cell_type": "code",
   "execution_count": 5,
   "id": "ce461593-59ee-479c-aac0-6b7e9b3cf78e",
   "metadata": {},
   "outputs": [
    {
     "data": {
      "text/markdown": [
       "### Print expected influence of the features on our prediction models"
      ],
      "text/plain": [
       "<IPython.core.display.Markdown object>"
      ]
     },
     "metadata": {},
     "output_type": "display_data"
    },
    {
     "name": "stdout",
     "output_type": "stream",
     "text": [
      "           Survived\n",
      "Had Cabin          \n",
      "0          0.299854\n",
      "1          0.666667\n",
      "             Survived\n",
      "Family size          \n",
      "0            0.303538\n",
      "1            0.552795\n",
      "2            0.578431\n",
      "3            0.724138\n",
      "4            0.200000\n",
      "5            0.136364\n",
      "6            0.333333\n",
      "7            0.000000\n",
      "10           0.000000\n",
      "          Survived\n",
      "Embarked          \n",
      "0         0.339009\n",
      "1         0.553571\n",
      "2         0.389610\n"
     ]
    }
   ],
   "source": [
    "# Print expected influence of the features on our prediction models\n",
    "printmd(\"### Print expected influence of the features on our prediction models\")\n",
    "\n",
    "print(titanic_train_clean[['Had Cabin', 'Survived']].groupby(['Had Cabin']).mean())\n",
    "# It looks like passangers without a cabin had worse chances of surviving\n",
    "\n",
    "print(titanic_train_clean[['Family size', 'Survived']].groupby(['Family size']).mean())\n",
    "# Very varying mean accross the family size so we expect it to have a significant impact onto our dataset\n",
    "\n",
    "print(titanic_train_clean[['Embarked', 'Survived']].groupby(['Embarked']).mean())\n",
    "# Should also have a significant effect due to varying means accross classes"
   ]
  },
  {
   "cell_type": "code",
   "execution_count": 6,
   "id": "e5dfe3ad-d699-4d75-979c-1092a63fb2bc",
   "metadata": {},
   "outputs": [
    {
     "data": {
      "text/html": [
       "<div>\n",
       "<style scoped>\n",
       "    .dataframe tbody tr th:only-of-type {\n",
       "        vertical-align: middle;\n",
       "    }\n",
       "\n",
       "    .dataframe tbody tr th {\n",
       "        vertical-align: top;\n",
       "    }\n",
       "\n",
       "    .dataframe thead th {\n",
       "        text-align: right;\n",
       "    }\n",
       "</style>\n",
       "<table border=\"1\" class=\"dataframe\">\n",
       "  <thead>\n",
       "    <tr style=\"text-align: right;\">\n",
       "      <th></th>\n",
       "      <th>Survived</th>\n",
       "      <th>Pclass</th>\n",
       "      <th>Sex</th>\n",
       "      <th>Age</th>\n",
       "      <th>Fare</th>\n",
       "      <th>Embarked</th>\n",
       "      <th>Had Cabin</th>\n",
       "      <th>Family size</th>\n",
       "    </tr>\n",
       "  </thead>\n",
       "  <tbody>\n",
       "    <tr>\n",
       "      <th>count</th>\n",
       "      <td>891.000000</td>\n",
       "      <td>891.000000</td>\n",
       "      <td>891.000000</td>\n",
       "      <td>891.000000</td>\n",
       "      <td>891.000000</td>\n",
       "      <td>891.000000</td>\n",
       "      <td>891.000000</td>\n",
       "      <td>891.000000</td>\n",
       "    </tr>\n",
       "    <tr>\n",
       "      <th>mean</th>\n",
       "      <td>0.383838</td>\n",
       "      <td>2.308642</td>\n",
       "      <td>0.352413</td>\n",
       "      <td>29.561358</td>\n",
       "      <td>32.204208</td>\n",
       "      <td>0.361392</td>\n",
       "      <td>0.228956</td>\n",
       "      <td>0.904602</td>\n",
       "    </tr>\n",
       "    <tr>\n",
       "      <th>std</th>\n",
       "      <td>0.486592</td>\n",
       "      <td>0.836071</td>\n",
       "      <td>0.477990</td>\n",
       "      <td>13.562334</td>\n",
       "      <td>49.693429</td>\n",
       "      <td>0.635673</td>\n",
       "      <td>0.420397</td>\n",
       "      <td>1.613459</td>\n",
       "    </tr>\n",
       "    <tr>\n",
       "      <th>min</th>\n",
       "      <td>0.000000</td>\n",
       "      <td>1.000000</td>\n",
       "      <td>0.000000</td>\n",
       "      <td>0.420000</td>\n",
       "      <td>0.000000</td>\n",
       "      <td>0.000000</td>\n",
       "      <td>0.000000</td>\n",
       "      <td>0.000000</td>\n",
       "    </tr>\n",
       "    <tr>\n",
       "      <th>25%</th>\n",
       "      <td>0.000000</td>\n",
       "      <td>2.000000</td>\n",
       "      <td>0.000000</td>\n",
       "      <td>21.000000</td>\n",
       "      <td>7.910400</td>\n",
       "      <td>0.000000</td>\n",
       "      <td>0.000000</td>\n",
       "      <td>0.000000</td>\n",
       "    </tr>\n",
       "    <tr>\n",
       "      <th>50%</th>\n",
       "      <td>0.000000</td>\n",
       "      <td>3.000000</td>\n",
       "      <td>0.000000</td>\n",
       "      <td>28.000000</td>\n",
       "      <td>14.454200</td>\n",
       "      <td>0.000000</td>\n",
       "      <td>0.000000</td>\n",
       "      <td>0.000000</td>\n",
       "    </tr>\n",
       "    <tr>\n",
       "      <th>75%</th>\n",
       "      <td>1.000000</td>\n",
       "      <td>3.000000</td>\n",
       "      <td>1.000000</td>\n",
       "      <td>37.000000</td>\n",
       "      <td>31.000000</td>\n",
       "      <td>1.000000</td>\n",
       "      <td>0.000000</td>\n",
       "      <td>1.000000</td>\n",
       "    </tr>\n",
       "    <tr>\n",
       "      <th>max</th>\n",
       "      <td>1.000000</td>\n",
       "      <td>3.000000</td>\n",
       "      <td>1.000000</td>\n",
       "      <td>80.000000</td>\n",
       "      <td>512.329200</td>\n",
       "      <td>2.000000</td>\n",
       "      <td>1.000000</td>\n",
       "      <td>10.000000</td>\n",
       "    </tr>\n",
       "  </tbody>\n",
       "</table>\n",
       "</div>"
      ],
      "text/plain": [
       "         Survived      Pclass         Sex         Age        Fare    Embarked  \\\n",
       "count  891.000000  891.000000  891.000000  891.000000  891.000000  891.000000   \n",
       "mean     0.383838    2.308642    0.352413   29.561358   32.204208    0.361392   \n",
       "std      0.486592    0.836071    0.477990   13.562334   49.693429    0.635673   \n",
       "min      0.000000    1.000000    0.000000    0.420000    0.000000    0.000000   \n",
       "25%      0.000000    2.000000    0.000000   21.000000    7.910400    0.000000   \n",
       "50%      0.000000    3.000000    0.000000   28.000000   14.454200    0.000000   \n",
       "75%      1.000000    3.000000    1.000000   37.000000   31.000000    1.000000   \n",
       "max      1.000000    3.000000    1.000000   80.000000  512.329200    2.000000   \n",
       "\n",
       "        Had Cabin  Family size  \n",
       "count  891.000000   891.000000  \n",
       "mean     0.228956     0.904602  \n",
       "std      0.420397     1.613459  \n",
       "min      0.000000     0.000000  \n",
       "25%      0.000000     0.000000  \n",
       "50%      0.000000     0.000000  \n",
       "75%      0.000000     1.000000  \n",
       "max      1.000000    10.000000  "
      ]
     },
     "execution_count": 6,
     "metadata": {},
     "output_type": "execute_result"
    }
   ],
   "source": [
    "titanic_train_clean.describe(include='all')"
   ]
  },
  {
   "cell_type": "code",
   "execution_count": 7,
   "id": "1aa30d0b-a12e-48b9-acf0-af4eb2cab0ae",
   "metadata": {},
   "outputs": [
    {
     "data": {
      "text/plain": [
       "Survived\n",
       "0    549\n",
       "1    342\n",
       "Name: Survived, dtype: int64"
      ]
     },
     "execution_count": 7,
     "metadata": {},
     "output_type": "execute_result"
    }
   ],
   "source": [
    "titanic_train_clean.groupby(\"Survived\")['Survived'].count()"
   ]
  },
  {
   "cell_type": "code",
   "execution_count": 8,
   "id": "34acf049-4324-419f-9410-c7c61410a9e9",
   "metadata": {},
   "outputs": [],
   "source": [
    "train_x = titanic_train_clean.drop(columns=['Survived'])\n",
    "train_y = titanic_train_clean['Survived']"
   ]
  },
  {
   "cell_type": "markdown",
   "id": "e6e0a99a-9e5d-4a78-87f4-56dd925f1364",
   "metadata": {},
   "source": [
    "## Search for the best descision tree configuration"
   ]
  },
  {
   "cell_type": "code",
   "execution_count": 9,
   "id": "6dee6eca-3b86-4a13-93cd-ea1e6e0f293a",
   "metadata": {},
   "outputs": [
    {
     "name": "stdout",
     "output_type": "stream",
     "text": [
      "{'n_estimators': [20, 50, 100, 300, 700, 900, 1200], 'max_features': ['sqrt'], 'max_depth': [2, 5, 10, None], 'min_samples_split': [5, 10, 20], 'min_samples_leaf': [1, 2, 4], 'bootstrap': [True], 'criterion': ['gini'], 'class_weight': ['balanced']}\n",
      "Fitting 3 folds for each of 252 candidates, totalling 756 fits\n"
     ]
    },
    {
     "data": {
      "text/plain": [
       "GridSearchCV(cv=3, estimator=RandomForestClassifier(), n_jobs=6,\n",
       "             param_grid={'bootstrap': [True], 'class_weight': ['balanced'],\n",
       "                         'criterion': ['gini'], 'max_depth': [2, 5, 10, None],\n",
       "                         'max_features': ['sqrt'],\n",
       "                         'min_samples_leaf': [1, 2, 4],\n",
       "                         'min_samples_split': [5, 10, 20],\n",
       "                         'n_estimators': [20, 50, 100, 300, 700, 900, 1200]},\n",
       "             verbose=10)"
      ]
     },
     "execution_count": 9,
     "metadata": {},
     "output_type": "execute_result"
    }
   ],
   "source": [
    "from sklearn.model_selection import GridSearchCV\n",
    "\n",
    "# Number of trees in random forest\n",
    "n_estimators = [20, 50, 100, 300, 700, 900, 1200]\n",
    "# Number of features to consider at every split\n",
    "max_features = ['sqrt']\n",
    "# Maximum number of levels in tree\n",
    "max_depth = [2, 5, 10]\n",
    "max_depth.append(None)\n",
    "# Minimum number of samples required to split a node\n",
    "min_samples_split = [5, 10, 20]\n",
    "# Minimum number of samples required at each leaf node\n",
    "min_samples_leaf = [1, 2, 4]\n",
    "# Method of selecting samples for training each tree\n",
    "bootstrap = [True]\n",
    "# Create the random grid\n",
    "random_grid = {'n_estimators': n_estimators,\n",
    "               'max_features': max_features,\n",
    "               'max_depth': max_depth,\n",
    "               'min_samples_split': min_samples_split,\n",
    "               'min_samples_leaf': min_samples_leaf,\n",
    "               'bootstrap': bootstrap,\n",
    "               # Fixed parameters\n",
    "               'criterion':['gini'], 'class_weight': ['balanced']\n",
    "              }\n",
    "print(random_grid)\n",
    "\n",
    "# Use the random grid to search for best hyperparameters\n",
    "# First create the base model to tune\n",
    "rf = sklearn.ensemble.RandomForestClassifier()\n",
    "# Random search of parameters, using 3 fold cross validation, \n",
    "# search across 100 different combinations, and use all available cores\n",
    "rf_random = GridSearchCV(rf, random_grid, cv=3, n_jobs=6, verbose=10)\n",
    "rf_random.fit(train_x, train_y)\n"
   ]
  },
  {
   "cell_type": "code",
   "execution_count": 10,
   "id": "c523e050-bc7c-4d6b-ad7c-3707e786970a",
   "metadata": {},
   "outputs": [
    {
     "data": {
      "text/plain": [
       "{'bootstrap': True,\n",
       " 'class_weight': 'balanced',\n",
       " 'criterion': 'gini',\n",
       " 'max_depth': 10,\n",
       " 'max_features': 'sqrt',\n",
       " 'min_samples_leaf': 1,\n",
       " 'min_samples_split': 5,\n",
       " 'n_estimators': 50}"
      ]
     },
     "execution_count": 10,
     "metadata": {},
     "output_type": "execute_result"
    }
   ],
   "source": [
    "rf_random.best_params_"
   ]
  },
  {
   "cell_type": "markdown",
   "id": "ca94a4c7-dbdd-4e9a-8175-971fb358915a",
   "metadata": {
    "tags": []
   },
   "source": [
    "## Train our model based on this configuration estimation"
   ]
  },
  {
   "cell_type": "code",
   "execution_count": 11,
   "id": "a6b42b37-e583-4dc8-a287-519023950bdf",
   "metadata": {},
   "outputs": [
    {
     "name": "stdout",
     "output_type": "stream",
     "text": [
      "Train accuracy 0.9259259259259259\n",
      "Training set utilisation = 100.0%\n"
     ]
    },
    {
     "data": {
      "text/html": [
       "<div>\n",
       "<style scoped>\n",
       "    .dataframe tbody tr th:only-of-type {\n",
       "        vertical-align: middle;\n",
       "    }\n",
       "\n",
       "    .dataframe tbody tr th {\n",
       "        vertical-align: top;\n",
       "    }\n",
       "\n",
       "    .dataframe thead th {\n",
       "        text-align: right;\n",
       "    }\n",
       "</style>\n",
       "<table border=\"1\" class=\"dataframe\">\n",
       "  <thead>\n",
       "    <tr style=\"text-align: right;\">\n",
       "      <th></th>\n",
       "      <th>Survived</th>\n",
       "    </tr>\n",
       "    <tr>\n",
       "      <th>PassengerId</th>\n",
       "      <th></th>\n",
       "    </tr>\n",
       "  </thead>\n",
       "  <tbody>\n",
       "    <tr>\n",
       "      <th>892</th>\n",
       "      <td>0</td>\n",
       "    </tr>\n",
       "    <tr>\n",
       "      <th>893</th>\n",
       "      <td>0</td>\n",
       "    </tr>\n",
       "    <tr>\n",
       "      <th>894</th>\n",
       "      <td>0</td>\n",
       "    </tr>\n",
       "    <tr>\n",
       "      <th>895</th>\n",
       "      <td>0</td>\n",
       "    </tr>\n",
       "    <tr>\n",
       "      <th>896</th>\n",
       "      <td>1</td>\n",
       "    </tr>\n",
       "    <tr>\n",
       "      <th>...</th>\n",
       "      <td>...</td>\n",
       "    </tr>\n",
       "    <tr>\n",
       "      <th>1305</th>\n",
       "      <td>0</td>\n",
       "    </tr>\n",
       "    <tr>\n",
       "      <th>1306</th>\n",
       "      <td>1</td>\n",
       "    </tr>\n",
       "    <tr>\n",
       "      <th>1307</th>\n",
       "      <td>0</td>\n",
       "    </tr>\n",
       "    <tr>\n",
       "      <th>1308</th>\n",
       "      <td>0</td>\n",
       "    </tr>\n",
       "    <tr>\n",
       "      <th>1309</th>\n",
       "      <td>0</td>\n",
       "    </tr>\n",
       "  </tbody>\n",
       "</table>\n",
       "<p>418 rows × 1 columns</p>\n",
       "</div>"
      ],
      "text/plain": [
       "             Survived\n",
       "PassengerId          \n",
       "892                 0\n",
       "893                 0\n",
       "894                 0\n",
       "895                 0\n",
       "896                 1\n",
       "...               ...\n",
       "1305                0\n",
       "1306                1\n",
       "1307                0\n",
       "1308                0\n",
       "1309                0\n",
       "\n",
       "[418 rows x 1 columns]"
      ]
     },
     "execution_count": 11,
     "metadata": {},
     "output_type": "execute_result"
    }
   ],
   "source": [
    "# Create training dataset\n",
    "train_x = titanic_train_clean.drop(columns=['Survived'])\n",
    "train_y = titanic_train_clean['Survived']\n",
    "# Train model based on best estimated configuration from previous tests\n",
    "model = sklearn.ensemble.RandomForestClassifier(max_depth= 10, n_estimators=300,  min_samples_leaf=1,  min_samples_split=5, max_features='sqrt',\n",
    "                                                bootstrap=True, criterion='gini',class_weight=\"balanced\")\n",
    "model = model.fit(X=train_x, y=train_y)\n",
    "# Calculate train accuracy\n",
    "train_accuracy = model.score(X=train_x, y=train_y)\n",
    "print(f\"Train accuracy {train_accuracy}\")\n",
    "print(f\"Training set utilisation = {100 * len(titanic_train_clean) / len(titanic_train)}%\")\n",
    "\n",
    "# Create test dataset\n",
    "titanic_test_clean = preprocess(titanic_test)\n",
    "# Calculate test accuracy\n",
    "predictions = model.predict(X=titanic_test_clean)\n",
    "submission_df = pd.DataFrame(data={'PassengerId': titanic_test['PassengerId'], 'Survived': predictions})\n",
    "submission_df = submission_df.set_index('PassengerId')\n",
    "submission_df"
   ]
  },
  {
   "cell_type": "code",
   "execution_count": 12,
   "id": "059ec48c-7e60-4efe-a5b0-64aa2e93d1aa",
   "metadata": {},
   "outputs": [],
   "source": [
    "submission_df.to_csv(\"Titanic_prediction-RandomForest.csv\")"
   ]
  },
  {
   "cell_type": "markdown",
   "id": "76e3ebd6-fa6b-4335-9105-b453813dea7c",
   "metadata": {},
   "source": [
    "## Evaluaton based on titanic test-set"
   ]
  },
  {
   "cell_type": "code",
   "execution_count": 13,
   "id": "d94222b6-d2a7-433d-9c1b-f0572ea9d519",
   "metadata": {},
   "outputs": [
    {
     "data": {
      "text/html": [
       "<div>\n",
       "<style scoped>\n",
       "    .dataframe tbody tr th:only-of-type {\n",
       "        vertical-align: middle;\n",
       "    }\n",
       "\n",
       "    .dataframe tbody tr th {\n",
       "        vertical-align: top;\n",
       "    }\n",
       "\n",
       "    .dataframe thead th {\n",
       "        text-align: right;\n",
       "    }\n",
       "</style>\n",
       "<table border=\"1\" class=\"dataframe\">\n",
       "  <thead>\n",
       "    <tr style=\"text-align: right;\">\n",
       "      <th></th>\n",
       "      <th>Pclass</th>\n",
       "      <th>Survived</th>\n",
       "      <th>Name</th>\n",
       "      <th>Sex</th>\n",
       "      <th>Age</th>\n",
       "      <th>SibSp</th>\n",
       "      <th>Parch</th>\n",
       "      <th>Ticket</th>\n",
       "      <th>Fare</th>\n",
       "      <th>Cabin</th>\n",
       "      <th>Embarked</th>\n",
       "      <th>PassengerId</th>\n",
       "    </tr>\n",
       "  </thead>\n",
       "  <tbody>\n",
       "    <tr>\n",
       "      <th>0</th>\n",
       "      <td>1</td>\n",
       "      <td>1</td>\n",
       "      <td>Allen, Miss. Elisabeth Walton</td>\n",
       "      <td>female</td>\n",
       "      <td>29.00</td>\n",
       "      <td>0</td>\n",
       "      <td>0</td>\n",
       "      <td>24160</td>\n",
       "      <td>211.3375</td>\n",
       "      <td>B5</td>\n",
       "      <td>S</td>\n",
       "      <td>891</td>\n",
       "    </tr>\n",
       "    <tr>\n",
       "      <th>1</th>\n",
       "      <td>1</td>\n",
       "      <td>1</td>\n",
       "      <td>Allison, Master. Hudson Trevor</td>\n",
       "      <td>male</td>\n",
       "      <td>0.92</td>\n",
       "      <td>1</td>\n",
       "      <td>2</td>\n",
       "      <td>113781</td>\n",
       "      <td>151.5500</td>\n",
       "      <td>C22 C26</td>\n",
       "      <td>S</td>\n",
       "      <td>892</td>\n",
       "    </tr>\n",
       "    <tr>\n",
       "      <th>2</th>\n",
       "      <td>1</td>\n",
       "      <td>0</td>\n",
       "      <td>Allison, Miss. Helen Loraine</td>\n",
       "      <td>female</td>\n",
       "      <td>2.00</td>\n",
       "      <td>1</td>\n",
       "      <td>2</td>\n",
       "      <td>113781</td>\n",
       "      <td>151.5500</td>\n",
       "      <td>C22 C26</td>\n",
       "      <td>S</td>\n",
       "      <td>893</td>\n",
       "    </tr>\n",
       "    <tr>\n",
       "      <th>3</th>\n",
       "      <td>1</td>\n",
       "      <td>0</td>\n",
       "      <td>Allison, Mr. Hudson Joshua Creighton</td>\n",
       "      <td>male</td>\n",
       "      <td>30.00</td>\n",
       "      <td>1</td>\n",
       "      <td>2</td>\n",
       "      <td>113781</td>\n",
       "      <td>151.5500</td>\n",
       "      <td>C22 C26</td>\n",
       "      <td>S</td>\n",
       "      <td>894</td>\n",
       "    </tr>\n",
       "    <tr>\n",
       "      <th>4</th>\n",
       "      <td>1</td>\n",
       "      <td>0</td>\n",
       "      <td>Allison, Mrs. Hudson J C (Bessie Waldo Daniels)</td>\n",
       "      <td>female</td>\n",
       "      <td>25.00</td>\n",
       "      <td>1</td>\n",
       "      <td>2</td>\n",
       "      <td>113781</td>\n",
       "      <td>151.5500</td>\n",
       "      <td>C22 C26</td>\n",
       "      <td>S</td>\n",
       "      <td>895</td>\n",
       "    </tr>\n",
       "  </tbody>\n",
       "</table>\n",
       "</div>"
      ],
      "text/plain": [
       "   Pclass  Survived                                             Name     Sex  \\\n",
       "0       1         1                    Allen, Miss. Elisabeth Walton  female   \n",
       "1       1         1                   Allison, Master. Hudson Trevor    male   \n",
       "2       1         0                     Allison, Miss. Helen Loraine  female   \n",
       "3       1         0             Allison, Mr. Hudson Joshua Creighton    male   \n",
       "4       1         0  Allison, Mrs. Hudson J C (Bessie Waldo Daniels)  female   \n",
       "\n",
       "     Age  SibSp  Parch  Ticket      Fare    Cabin Embarked  PassengerId  \n",
       "0  29.00      0      0   24160  211.3375       B5        S          891  \n",
       "1   0.92      1      2  113781  151.5500  C22 C26        S          892  \n",
       "2   2.00      1      2  113781  151.5500  C22 C26        S          893  \n",
       "3  30.00      1      2  113781  151.5500  C22 C26        S          894  \n",
       "4  25.00      1      2  113781  151.5500  C22 C26        S          895  "
      ]
     },
     "execution_count": 13,
     "metadata": {},
     "output_type": "execute_result"
    }
   ],
   "source": [
    "titanic_test_with_labels = pd.read_csv(\"../../../project/test-set-solution.csv\")\n",
    "titanic_test_with_labels = titanic_test_with_labels.drop(columns=[\"boat\", \"body\", \"home.dest\"])\n",
    "titanic_test_with_labels[\"PassengerId\"] = [titanic_train.shape[0] + i for i in range(titanic_test_with_labels.shape[0])]\n",
    "titanic_test_with_labels.head()"
   ]
  },
  {
   "cell_type": "markdown",
   "id": "d0bfb3e8-23a5-49fc-b7f3-ed502207a6da",
   "metadata": {},
   "source": [
    "Is there an onverlap with the training dataset?"
   ]
  },
  {
   "cell_type": "code",
   "execution_count": 14,
   "id": "8d71c381-f77d-4c0a-bc77-611a5fc8edb1",
   "metadata": {},
   "outputs": [
    {
     "data": {
      "text/plain": [
       "duplicate\n",
       "False    416\n",
       "True     893\n",
       "Name: duplicate, dtype: int64"
      ]
     },
     "execution_count": 14,
     "metadata": {},
     "output_type": "execute_result"
    }
   ],
   "source": [
    "merge = titanic_test_with_labels.merge(titanic_train, on=[\"Name\"], how='left', indicator=True)\n",
    "merge[\"duplicate\"] = merge[\"_merge\"] == \"both\"\n",
    "merge.groupby(\"duplicate\")[\"duplicate\"].count()"
   ]
  },
  {
   "cell_type": "markdown",
   "id": "5d170c34-8956-419a-9599-1bf2e5f73243",
   "metadata": {},
   "source": [
    "Yes, so we need to clean that up"
   ]
  },
  {
   "cell_type": "code",
   "execution_count": 15,
   "id": "29106c05-c0f5-476a-b8d6-35ec36404a81",
   "metadata": {},
   "outputs": [
    {
     "data": {
      "text/html": [
       "<div>\n",
       "<style scoped>\n",
       "    .dataframe tbody tr th:only-of-type {\n",
       "        vertical-align: middle;\n",
       "    }\n",
       "\n",
       "    .dataframe tbody tr th {\n",
       "        vertical-align: top;\n",
       "    }\n",
       "\n",
       "    .dataframe thead th {\n",
       "        text-align: right;\n",
       "    }\n",
       "</style>\n",
       "<table border=\"1\" class=\"dataframe\">\n",
       "  <thead>\n",
       "    <tr style=\"text-align: right;\">\n",
       "      <th></th>\n",
       "      <th>Pclass</th>\n",
       "      <th>Survived</th>\n",
       "      <th>Name</th>\n",
       "      <th>Sex</th>\n",
       "      <th>Age</th>\n",
       "      <th>SibSp</th>\n",
       "      <th>Parch</th>\n",
       "      <th>Ticket</th>\n",
       "      <th>Fare</th>\n",
       "      <th>Cabin</th>\n",
       "      <th>Embarked</th>\n",
       "      <th>PassengerId</th>\n",
       "    </tr>\n",
       "  </thead>\n",
       "  <tbody>\n",
       "    <tr>\n",
       "      <th>3</th>\n",
       "      <td>1</td>\n",
       "      <td>0</td>\n",
       "      <td>Allison, Mr. Hudson Joshua Creighton</td>\n",
       "      <td>male</td>\n",
       "      <td>30.0</td>\n",
       "      <td>1</td>\n",
       "      <td>2</td>\n",
       "      <td>113781</td>\n",
       "      <td>151.5500</td>\n",
       "      <td>C22 C26</td>\n",
       "      <td>S</td>\n",
       "      <td>894</td>\n",
       "    </tr>\n",
       "    <tr>\n",
       "      <th>10</th>\n",
       "      <td>1</td>\n",
       "      <td>0</td>\n",
       "      <td>Astor, Col. John Jacob</td>\n",
       "      <td>male</td>\n",
       "      <td>47.0</td>\n",
       "      <td>1</td>\n",
       "      <td>0</td>\n",
       "      <td>PC 17757</td>\n",
       "      <td>227.5250</td>\n",
       "      <td>C62 C64</td>\n",
       "      <td>C</td>\n",
       "      <td>901</td>\n",
       "    </tr>\n",
       "    <tr>\n",
       "      <th>19</th>\n",
       "      <td>1</td>\n",
       "      <td>0</td>\n",
       "      <td>Beattie, Mr. Thomson</td>\n",
       "      <td>male</td>\n",
       "      <td>36.0</td>\n",
       "      <td>0</td>\n",
       "      <td>0</td>\n",
       "      <td>13050</td>\n",
       "      <td>75.2417</td>\n",
       "      <td>C6</td>\n",
       "      <td>C</td>\n",
       "      <td>910</td>\n",
       "    </tr>\n",
       "    <tr>\n",
       "      <th>24</th>\n",
       "      <td>1</td>\n",
       "      <td>1</td>\n",
       "      <td>Bird, Miss. Ellen</td>\n",
       "      <td>female</td>\n",
       "      <td>29.0</td>\n",
       "      <td>0</td>\n",
       "      <td>0</td>\n",
       "      <td>PC 17483</td>\n",
       "      <td>221.7792</td>\n",
       "      <td>C97</td>\n",
       "      <td>S</td>\n",
       "      <td>915</td>\n",
       "    </tr>\n",
       "    <tr>\n",
       "      <th>25</th>\n",
       "      <td>1</td>\n",
       "      <td>0</td>\n",
       "      <td>Birnbaum, Mr. Jakob</td>\n",
       "      <td>male</td>\n",
       "      <td>25.0</td>\n",
       "      <td>0</td>\n",
       "      <td>0</td>\n",
       "      <td>13905</td>\n",
       "      <td>26.0000</td>\n",
       "      <td>NaN</td>\n",
       "      <td>C</td>\n",
       "      <td>916</td>\n",
       "    </tr>\n",
       "    <tr>\n",
       "      <th>...</th>\n",
       "      <td>...</td>\n",
       "      <td>...</td>\n",
       "      <td>...</td>\n",
       "      <td>...</td>\n",
       "      <td>...</td>\n",
       "      <td>...</td>\n",
       "      <td>...</td>\n",
       "      <td>...</td>\n",
       "      <td>...</td>\n",
       "      <td>...</td>\n",
       "      <td>...</td>\n",
       "      <td>...</td>\n",
       "    </tr>\n",
       "    <tr>\n",
       "      <th>1291</th>\n",
       "      <td>3</td>\n",
       "      <td>0</td>\n",
       "      <td>Willer, Mr. Aaron (\"Abi Weller\")</td>\n",
       "      <td>male</td>\n",
       "      <td>NaN</td>\n",
       "      <td>0</td>\n",
       "      <td>0</td>\n",
       "      <td>3410</td>\n",
       "      <td>8.7125</td>\n",
       "      <td>NaN</td>\n",
       "      <td>S</td>\n",
       "      <td>2182</td>\n",
       "    </tr>\n",
       "    <tr>\n",
       "      <th>1296</th>\n",
       "      <td>3</td>\n",
       "      <td>0</td>\n",
       "      <td>Wirz, Mr. Albert</td>\n",
       "      <td>male</td>\n",
       "      <td>27.0</td>\n",
       "      <td>0</td>\n",
       "      <td>0</td>\n",
       "      <td>315154</td>\n",
       "      <td>8.6625</td>\n",
       "      <td>NaN</td>\n",
       "      <td>S</td>\n",
       "      <td>2187</td>\n",
       "    </tr>\n",
       "    <tr>\n",
       "      <th>1298</th>\n",
       "      <td>3</td>\n",
       "      <td>0</td>\n",
       "      <td>Wittevrongel, Mr. Camille</td>\n",
       "      <td>male</td>\n",
       "      <td>36.0</td>\n",
       "      <td>0</td>\n",
       "      <td>0</td>\n",
       "      <td>345771</td>\n",
       "      <td>9.5000</td>\n",
       "      <td>NaN</td>\n",
       "      <td>S</td>\n",
       "      <td>2189</td>\n",
       "    </tr>\n",
       "    <tr>\n",
       "      <th>1306</th>\n",
       "      <td>3</td>\n",
       "      <td>0</td>\n",
       "      <td>Zakarian, Mr. Mapriededer</td>\n",
       "      <td>male</td>\n",
       "      <td>26.5</td>\n",
       "      <td>0</td>\n",
       "      <td>0</td>\n",
       "      <td>2656</td>\n",
       "      <td>7.2250</td>\n",
       "      <td>NaN</td>\n",
       "      <td>C</td>\n",
       "      <td>2197</td>\n",
       "    </tr>\n",
       "    <tr>\n",
       "      <th>1307</th>\n",
       "      <td>3</td>\n",
       "      <td>0</td>\n",
       "      <td>Zakarian, Mr. Ortin</td>\n",
       "      <td>male</td>\n",
       "      <td>27.0</td>\n",
       "      <td>0</td>\n",
       "      <td>0</td>\n",
       "      <td>2670</td>\n",
       "      <td>7.2250</td>\n",
       "      <td>NaN</td>\n",
       "      <td>C</td>\n",
       "      <td>2198</td>\n",
       "    </tr>\n",
       "  </tbody>\n",
       "</table>\n",
       "<p>416 rows × 12 columns</p>\n",
       "</div>"
      ],
      "text/plain": [
       "      Pclass  Survived                                  Name     Sex   Age  \\\n",
       "3          1         0  Allison, Mr. Hudson Joshua Creighton    male  30.0   \n",
       "10         1         0                Astor, Col. John Jacob    male  47.0   \n",
       "19         1         0                  Beattie, Mr. Thomson    male  36.0   \n",
       "24         1         1                     Bird, Miss. Ellen  female  29.0   \n",
       "25         1         0                   Birnbaum, Mr. Jakob    male  25.0   \n",
       "...      ...       ...                                   ...     ...   ...   \n",
       "1291       3         0      Willer, Mr. Aaron (\"Abi Weller\")    male   NaN   \n",
       "1296       3         0                      Wirz, Mr. Albert    male  27.0   \n",
       "1298       3         0             Wittevrongel, Mr. Camille    male  36.0   \n",
       "1306       3         0             Zakarian, Mr. Mapriededer    male  26.5   \n",
       "1307       3         0                   Zakarian, Mr. Ortin    male  27.0   \n",
       "\n",
       "      SibSp  Parch    Ticket      Fare    Cabin Embarked  PassengerId  \n",
       "3         1      2    113781  151.5500  C22 C26        S          894  \n",
       "10        1      0  PC 17757  227.5250  C62 C64        C          901  \n",
       "19        0      0     13050   75.2417       C6        C          910  \n",
       "24        0      0  PC 17483  221.7792      C97        S          915  \n",
       "25        0      0     13905   26.0000      NaN        C          916  \n",
       "...     ...    ...       ...       ...      ...      ...          ...  \n",
       "1291      0      0      3410    8.7125      NaN        S         2182  \n",
       "1296      0      0    315154    8.6625      NaN        S         2187  \n",
       "1298      0      0    345771    9.5000      NaN        S         2189  \n",
       "1306      0      0      2656    7.2250      NaN        C         2197  \n",
       "1307      0      0      2670    7.2250      NaN        C         2198  \n",
       "\n",
       "[416 rows x 12 columns]"
      ]
     },
     "execution_count": 15,
     "metadata": {},
     "output_type": "execute_result"
    }
   ],
   "source": [
    "titanic_test_with_labels_u = titanic_test_with_labels.merge(titanic_train, on=[\"Name\"], how='outer', indicator=True).query('_merge==\"left_only\"').drop(\"_merge\", axis=1)\n",
    "titanic_test_with_labels_u = titanic_test_with_labels_u.drop(columns=[\"PassengerId_y\", \"Survived_y\", \"Pclass_y\", \"Age_y\", \"SibSp_y\", \"Parch_y\", \"Ticket_y\", \"Embarked_y\", \"Sex_y\", \"Fare_y\", \"Cabin_y\"])\n",
    "titanic_test_with_labels_u.rename(columns={\n",
    "    \"Pclass_x\": \"Pclass\",\n",
    "    \"Survived_x\": \"Survived\",\n",
    "    \"Sex_x\": \"Sex\",\n",
    "    \"Age_x\": \"Age\",\n",
    "    \"SibSp_x\": \"SibSp\", \n",
    "    \"Parch_x\": \"Parch\",\n",
    "    \"Ticket_x\": \"Ticket\",\n",
    "    \"Fare_x\": \"Fare\",\n",
    "    \"Cabin_x\": \"Cabin\",\n",
    "    \"Embarked_x\": \"Embarked\",\n",
    "    \"PassengerId_x\": \"PassengerId\",}, inplace=True)\n",
    "titanic_test_with_labels_u"
   ]
  },
  {
   "cell_type": "markdown",
   "id": "45b92ebf-51ea-4090-9fd5-66ed653e652c",
   "metadata": {},
   "source": [
    "### Now lets test our accuracy against the test set"
   ]
  },
  {
   "cell_type": "code",
   "execution_count": 16,
   "id": "c5059689-8570-4825-80d9-d97e1fb50325",
   "metadata": {},
   "outputs": [
    {
     "name": "stdout",
     "output_type": "stream",
     "text": [
      "Test score = 0.7475961538461539\n",
      "Missing classifications = 0\n"
     ]
    }
   ],
   "source": [
    "# Create test dataset\n",
    "titanic_test_with_labels_clean = preprocess(titanic_test_with_labels_u)\n",
    "test_x = titanic_test_with_labels_clean.drop(columns=['Survived'])\n",
    "test_y = titanic_test_with_labels_clean['Survived']\n",
    "# Calculate test accuracy\n",
    "titianic_test_score = model.score(X=test_x, y=test_y)\n",
    "print(f\"Test score = {titianic_test_score}\")\n",
    "print(f\"Missing classifications = {len(titanic_test_with_labels_u) - len(titanic_test_with_labels_clean)}\")"
   ]
  },
  {
   "cell_type": "code",
   "execution_count": 17,
   "id": "970b0831-c27b-491a-a44e-556253bb1488",
   "metadata": {},
   "outputs": [
    {
     "data": {
      "image/png": "[encoded data removed]",
      "text/plain": [
       "<Figure size 432x288 with 1 Axes>"
      ]
     },
     "metadata": {
      "needs_background": "light"
     },
     "output_type": "display_data"
    }
   ],
   "source": [
    "mutil.plot_roc(model, test_x, test_y, \"ROC curve for best fit model (RandomForest, Titanic)\")"
   ]
  },
  {
   "cell_type": "code",
   "execution_count": 18,
   "id": "346d0b2e-1c88-4bd0-bed7-946625b3b9da",
   "metadata": {},
   "outputs": [
    {
     "name": "stdout",
     "output_type": "stream",
     "text": [
      "Weighted F1-score = 0.7474396171204682\n"
     ]
    }
   ],
   "source": [
    "f1 = mutil.calc_f1(model, test_x, test_y)\n",
    "print(f\"Weighted F1-score = {f1}\")"
   ]
  },
  {
   "cell_type": "code",
   "execution_count": 19,
   "id": "d89c55fa-3fd0-4f54-ae94-adffbd130b62",
   "metadata": {},
   "outputs": [
    {
     "name": "stdout",
     "output_type": "stream",
     "text": [
      "              precision    recall  f1-score   support\n",
      "\n",
      "           0       0.80      0.80      0.80       258\n",
      "           1       0.67      0.66      0.67       158\n",
      "\n",
      "    accuracy                           0.75       416\n",
      "   macro avg       0.73      0.73      0.73       416\n",
      "weighted avg       0.75      0.75      0.75       416\n",
      "\n"
     ]
    }
   ],
   "source": [
    "pred_y = model.predict(test_x)\n",
    "print(sklearn.metrics.classification_report(y_true=test_y, y_pred=pred_y))"
   ]
  },
  {
   "cell_type": "code",
   "execution_count": 20,
   "id": "bb93fe37-9459-48db-96af-53d514b32b98",
   "metadata": {},
   "outputs": [
    {
     "data": {
      "text/plain": [
       "array([[206,  52],\n",
       "       [ 53, 105]], dtype=int64)"
      ]
     },
     "execution_count": 20,
     "metadata": {},
     "output_type": "execute_result"
    }
   ],
   "source": [
    "sklearn.metrics.confusion_matrix(test_y, pred_y)"
   ]
  },
  {
   "cell_type": "markdown",
   "id": "171be4df-2cd5-46ce-a7a9-91887ca8679e",
   "metadata": {},
   "source": [
    "## Test some different model parameters\n",
    "With a simpler model to combar the overfitting"
   ]
  },
  {
   "cell_type": "code",
   "execution_count": 21,
   "id": "76d6f448-adbe-4ce4-b508-35b7df156c86",
   "metadata": {},
   "outputs": [
    {
     "name": "stdout",
     "output_type": "stream",
     "text": [
      "Train accuracy 0.9057239057239057\n",
      "Training set utilisation = 100.0%\n",
      "\n",
      "Test score = 0.7475961538461539\n",
      "Missing classifications = 0\n"
     ]
    }
   ],
   "source": [
    "# Train model\n",
    "model = sklearn.ensemble.RandomForestClassifier(min_samples_split= 10, n_estimators= 90, criterion='gini', min_samples_leaf= 1, class_weight=\"balanced\")\n",
    "model = model.fit(X=train_x, y=train_y)\n",
    "\n",
    "# Calculate train accuracy\n",
    "train_accuracy = model.score(X=train_x, y=train_y)\n",
    "print(f\"Train accuracy {train_accuracy}\")\n",
    "print(f\"Training set utilisation = {100 * len(titanic_train_clean) / len(titanic_train)}%\\n\")\n",
    "\n",
    "# Create test dataset\n",
    "titanic_test_with_labels_clean = preprocess(titanic_test_with_labels_u)\n",
    "test_x = titanic_test_with_labels_clean.drop(columns=['Survived'])\n",
    "test_y = titanic_test_with_labels_clean['Survived']\n",
    "# Calculate test accuracy\n",
    "titianic_test_score = model.score(X=test_x, y=test_y)\n",
    "print(f\"Test score = {titianic_test_score}\")\n",
    "print(f\"Missing classifications = {len(titanic_test_with_labels_u) - len(titanic_test_with_labels_clean)}\")"
   ]
  },
  {
   "cell_type": "code",
   "execution_count": 22,
   "id": "d0b51ac3-68e1-4b1f-81eb-5de7c26e2ba7",
   "metadata": {},
   "outputs": [
    {
     "data": {
      "image/png": "[encoded data removed]",
      "text/plain": [
       "<Figure size 432x288 with 1 Axes>"
      ]
     },
     "metadata": {
      "needs_background": "light"
     },
     "output_type": "display_data"
    }
   ],
   "source": [
    "mutil.plot_roc(model, test_x, test_y, \"ROC curve for alternative model (RandomForest, Titanic)\")"
   ]
  },
  {
   "cell_type": "code",
   "execution_count": 23,
   "id": "a82e53c2-1012-4591-930b-596bb8403b28",
   "metadata": {},
   "outputs": [
    {
     "name": "stdout",
     "output_type": "stream",
     "text": [
      "Weighted F1-score = 0.7483270634115596\n"
     ]
    }
   ],
   "source": [
    "f1 = mutil.calc_f1(model, test_x, test_y)\n",
    "print(f\"Weighted F1-score = {f1}\")"
   ]
  },
  {
   "cell_type": "code",
   "execution_count": 24,
   "id": "df619447-d711-48d2-9a6b-3a820be30e54",
   "metadata": {},
   "outputs": [
    {
     "name": "stdout",
     "output_type": "stream",
     "text": [
      "              precision    recall  f1-score   support\n",
      "\n",
      "           0       0.80      0.79      0.79       258\n",
      "           1       0.66      0.68      0.67       158\n",
      "\n",
      "    accuracy                           0.75       416\n",
      "   macro avg       0.73      0.74      0.73       416\n",
      "weighted avg       0.75      0.75      0.75       416\n",
      "\n"
     ]
    }
   ],
   "source": [
    "pred_y = model.predict(test_x)\n",
    "print(sklearn.metrics.classification_report(y_true=test_y, y_pred=pred_y))"
   ]
  },
  {
   "cell_type": "code",
   "execution_count": 25,
   "id": "9ddd2912-5a55-4ef1-959a-ce5593547008",
   "metadata": {},
   "outputs": [
    {
     "data": {
      "text/plain": [
       "array([[203,  55],\n",
       "       [ 50, 108]], dtype=int64)"
      ]
     },
     "execution_count": 25,
     "metadata": {},
     "output_type": "execute_result"
    }
   ],
   "source": [
    "sklearn.metrics.confusion_matrix(test_y, pred_y)"
   ]
  },
  {
   "cell_type": "code",
   "execution_count": 26,
   "id": "f88b3211-fe4f-4a19-8022-cf15e1c3e0f7",
   "metadata": {},
   "outputs": [
    {
     "data": {
      "text/plain": [
       "Pclass          3.00\n",
       "Sex             0.00\n",
       "Age            22.00\n",
       "Fare            7.25\n",
       "Embarked        0.00\n",
       "Had Cabin       0.00\n",
       "Family size     1.00\n",
       "Name: 0, dtype: float64"
      ]
     },
     "execution_count": 26,
     "metadata": {},
     "output_type": "execute_result"
    }
   ],
   "source": [
    "train_x.iloc(0)[0]"
   ]
  },
  {
   "cell_type": "code",
   "execution_count": 27,
   "id": "dea4d85a-b04a-4466-9859-ae8e447fcf0e",
   "metadata": {},
   "outputs": [
    {
     "data": {
      "text/plain": [
       "0"
      ]
     },
     "execution_count": 27,
     "metadata": {},
     "output_type": "execute_result"
    }
   ],
   "source": [
    "train_y[0]"
   ]
  },
  {
   "cell_type": "code",
   "execution_count": null,
   "id": "8ec8bde2-7d6d-4c18-9e5d-5678f705e2b2",
   "metadata": {},
   "outputs": [],
   "source": []
  }
 ],
 "metadata": {
  "kernelspec": {
   "display_name": "Python 3 (ipykernel)",
   "language": "python",
   "name": "python3"
  },
  "language_info": {
   "codemirror_mode": {
    "name": "ipython",
    "version": 3
   },
   "file_extension": ".py",
   "mimetype": "text/x-python",
   "name": "python",
   "nbconvert_exporter": "python",
   "pygments_lexer": "ipython3",
   "version": "3.9.12"
  }
 },
 "nbformat": 4,
 "nbformat_minor": 5
}
