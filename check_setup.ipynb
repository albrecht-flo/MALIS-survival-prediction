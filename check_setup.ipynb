{
 "cells": [
  {
   "cell_type": "markdown",
   "id": "86f08cdf-3c5b-410f-b835-dd1bbe4272ac",
   "metadata": {},
   "source": [
    "# Environment Check setup\n",
    "\n",
    "This notebook validates the correct set up of your malis virtual environment"
   ]
  },
  {
   "cell_type": "markdown",
   "id": "46091500-8e45-4ead-a7a0-90d9811ab2dc",
   "metadata": {},
   "source": [
    "## 1. Installed Packages\n",
    "We first verify that all the packages that were installed are there and they can be imported"
   ]
  },
  {
   "cell_type": "code",
   "execution_count": 1,
   "id": "c373cd6f-eb09-4293-a65a-04c83b26c63a",
   "metadata": {},
   "outputs": [
    {
     "name": "stdout",
     "output_type": "stream",
     "text": [
      "If there is no error message, it means all is good!\n"
     ]
    }
   ],
   "source": [
    "import numpy as np\n",
    "import scipy\n",
    "import pandas as pd\n",
    "import matplotlib.pyplot as plt\n",
    "import seaborn as sns\n",
    "import plotly\n",
    "import sklearn\n",
    "import ipywidgets as widgets\n",
    "import tqdm\n",
    "\n",
    "print('If there is no error message, it means all is good!')"
   ]
  },
  {
   "cell_type": "code",
   "execution_count": null,
   "id": "732bd31e-d321-4c1f-88d7-486afd2c5942",
   "metadata": {},
   "outputs": [],
   "source": []
  }
 ],
 "metadata": {
  "kernelspec": {
   "display_name": "Python 3 (ipykernel)",
   "language": "python",
   "name": "python3"
  },
  "language_info": {
   "codemirror_mode": {
    "name": "ipython",
    "version": 3
   },
   "file_extension": ".py",
   "mimetype": "text/x-python",
   "name": "python",
   "nbconvert_exporter": "python",
   "pygments_lexer": "ipython3",
   "version": "3.9.12"
  }
 },
 "nbformat": 4,
 "nbformat_minor": 5
}
